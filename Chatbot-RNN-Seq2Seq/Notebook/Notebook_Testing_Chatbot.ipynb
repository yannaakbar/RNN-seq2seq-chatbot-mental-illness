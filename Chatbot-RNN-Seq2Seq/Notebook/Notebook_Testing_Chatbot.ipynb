{
  "nbformat": 4,
  "nbformat_minor": 0,
  "metadata": {
    "colab": {
      "provenance": []
    },
    "kernelspec": {
      "name": "python3",
      "display_name": "Python 3"
    },
    "language_info": {
      "name": "python"
    }
  },
  "cells": [
    {
      "cell_type": "markdown",
      "metadata": {
        "id": "kAUpFnfPbx0H"
      },
      "source": [
        "# **Membuat Aplikasi Chat bot**"
      ]
    },
    {
      "cell_type": "code",
      "source": [
        "import nltk\n",
        "from nltk.stem import WordNetLemmatizer\n",
        "lemmatizer = WordNetLemmatizer()\n",
        "import pickle\n",
        "import numpy as np\n",
        "import json\n",
        "from random import choice\n",
        "import os\n",
        "from keras.models import load_model"
      ],
      "metadata": {
        "id": "Cjkwe0heM9Cr"
      },
      "execution_count": 11,
      "outputs": []
    },
    {
      "cell_type": "code",
      "source": [
        "nltk.download('punkt') \n",
        "nltk.download('wordnet')\n",
        "nltk.download('omw-1.4')"
      ],
      "metadata": {
        "colab": {
          "base_uri": "https://localhost:8080/"
        },
        "id": "zquG8u1OOpAG",
        "outputId": "b42a1b21-b8f2-41ac-efcb-ae0fecbc0679"
      },
      "execution_count": 21,
      "outputs": [
        {
          "output_type": "stream",
          "name": "stderr",
          "text": [
            "[nltk_data] Downloading package punkt to /root/nltk_data...\n",
            "[nltk_data]   Unzipping tokenizers/punkt.zip.\n",
            "[nltk_data] Downloading package wordnet to /root/nltk_data...\n",
            "[nltk_data] Downloading package omw-1.4 to /root/nltk_data...\n"
          ]
        },
        {
          "output_type": "execute_result",
          "data": {
            "text/plain": [
              "True"
            ]
          },
          "metadata": {},
          "execution_count": 21
        }
      ]
    },
    {
      "cell_type": "markdown",
      "metadata": {
        "id": "aL0Rz6JZ9eLW"
      },
      "source": [
        "# Step 1: Download all the data from github"
      ]
    },
    {
      "cell_type": "code",
      "source": [
        "!wget https://github.com/yannaakbar/RNN-seq2seq-chatbot-mental-illness/archive/refs/heads/main.zip -O chatbot_nlp.zip"
      ],
      "metadata": {
        "colab": {
          "base_uri": "https://localhost:8080/"
        },
        "id": "2U0ZgmqDLath",
        "outputId": "c93ed091-2bf3-4090-8cd6-ec36b78685e4"
      },
      "execution_count": 9,
      "outputs": [
        {
          "output_type": "stream",
          "name": "stdout",
          "text": [
            "--2022-12-11 14:03:56--  https://github.com/yannaakbar/RNN-seq2seq-chatbot-mental-illness/archive/refs/heads/main.zip\n",
            "Resolving github.com (github.com)... 192.30.255.112\n",
            "Connecting to github.com (github.com)|192.30.255.112|:443... connected.\n",
            "HTTP request sent, awaiting response... 302 Found\n",
            "Location: https://codeload.github.com/yannaakbar/RNN-seq2seq-chatbot-mental-illness/zip/refs/heads/main [following]\n",
            "--2022-12-11 14:03:56--  https://codeload.github.com/yannaakbar/RNN-seq2seq-chatbot-mental-illness/zip/refs/heads/main\n",
            "Resolving codeload.github.com (codeload.github.com)... 192.30.255.121\n",
            "Connecting to codeload.github.com (codeload.github.com)|192.30.255.121|:443... connected.\n",
            "HTTP request sent, awaiting response... 200 OK\n",
            "Length: unspecified [application/zip]\n",
            "Saving to: ‘chatbot_nlp.zip’\n",
            "\n",
            "chatbot_nlp.zip         [ <=>                ] 861.95K  --.-KB/s    in 0.09s   \n",
            "\n",
            "2022-12-11 14:03:56 (9.24 MB/s) - ‘chatbot_nlp.zip’ saved [882634]\n",
            "\n"
          ]
        }
      ]
    },
    {
      "cell_type": "code",
      "source": [
        "!unzip chatbot_nlp.zip"
      ],
      "metadata": {
        "colab": {
          "base_uri": "https://localhost:8080/"
        },
        "id": "4C1D-PFFMjLM",
        "outputId": "97aced21-6117-46e5-93e9-5cc89ed2f5f5"
      },
      "execution_count": 10,
      "outputs": [
        {
          "output_type": "stream",
          "name": "stdout",
          "text": [
            "Archive:  chatbot_nlp.zip\n",
            "43b42698b912fa01d4c6460de96eb91b9fd3ac3e\n",
            "   creating: RNN-seq2seq-chatbot-mental-illness-main/\n",
            "  inflating: RNN-seq2seq-chatbot-mental-illness-main/.gitignore  \n",
            "   creating: RNN-seq2seq-chatbot-mental-illness-main/Chatbot-RNN-Seq2Seq/\n",
            "   creating: RNN-seq2seq-chatbot-mental-illness-main/Chatbot-RNN-Seq2Seq/dataset/\n",
            "  inflating: RNN-seq2seq-chatbot-mental-illness-main/Chatbot-RNN-Seq2Seq/dataset/intents.json  \n",
            "   creating: RNN-seq2seq-chatbot-mental-illness-main/Chatbot-RNN-Seq2Seq/model/\n",
            "  inflating: RNN-seq2seq-chatbot-mental-illness-main/Chatbot-RNN-Seq2Seq/model/classes.pkl  \n",
            "  inflating: RNN-seq2seq-chatbot-mental-illness-main/Chatbot-RNN-Seq2Seq/model/rnn_model.h5  \n",
            "  inflating: RNN-seq2seq-chatbot-mental-illness-main/Chatbot-RNN-Seq2Seq/model/words.pkl  \n",
            "  inflating: RNN-seq2seq-chatbot-mental-illness-main/Chatbot-RNN-Seq2Seq/model_plot.png  \n",
            "  inflating: RNN-seq2seq-chatbot-mental-illness-main/README.md  \n"
          ]
        }
      ]
    },
    {
      "cell_type": "markdown",
      "metadata": {
        "id": "6j84KOHBMu9K"
      },
      "source": [
        "# Step 2: Load Model"
      ]
    },
    {
      "cell_type": "code",
      "source": [
        "dir_path = '/content/RNN-seq2seq-chatbot-mental-illness-main/Chatbot-RNN-Seq2Seq/model'\n",
        "files_list = os.listdir(dir_path + os.sep)"
      ],
      "metadata": {
        "id": "dD-_dsIrM4GL"
      },
      "execution_count": 12,
      "outputs": []
    },
    {
      "cell_type": "code",
      "source": [
        "#Load model \n",
        "#memanggil model yang sudah dibuat\n",
        "model = load_model('/content/RNN-seq2seq-chatbot-mental-illness-main/Chatbot-RNN-Seq2Seq/model/rnn_model.h5')\n",
        "intents = json.loads(open('/content/RNN-seq2seq-chatbot-mental-illness-main/Chatbot-RNN-Seq2Seq/dataset/intents.json', encoding='utf-8').read())\n",
        "words = pickle.load(open('/content/RNN-seq2seq-chatbot-mental-illness-main/Chatbot-RNN-Seq2Seq/model/words.pkl','rb'))\n",
        "classes = pickle.load(open('/content/RNN-seq2seq-chatbot-mental-illness-main/Chatbot-RNN-Seq2Seq/model/classes.pkl','rb'))"
      ],
      "metadata": {
        "id": "V0PWYSvtNMjD"
      },
      "execution_count": 14,
      "outputs": []
    },
    {
      "cell_type": "markdown",
      "metadata": {
        "id": "RXcqbhppiioC"
      },
      "source": [
        "# Step 3: Membuat Fungsi Clean up sentence "
      ]
    },
    {
      "cell_type": "code",
      "source": [
        "def clean_up_sentence(sentence):\n",
        "    sentence_words = nltk.word_tokenize(sentence)\n",
        "    sentence_words = [lemmatizer.lemmatize(word.lower()) for word in sentence_words]\n",
        "    return sentence_words"
      ],
      "metadata": {
        "id": "JpmShqUYPFOm"
      },
      "execution_count": 15,
      "outputs": []
    },
    {
      "cell_type": "markdown",
      "metadata": {
        "id": "QApgBccfitRG"
      },
      "source": [
        "# Step 4: Membuat Fungsi Bag of Words"
      ]
    },
    {
      "cell_type": "code",
      "source": [
        "# return bag of words array: 0 or 1 for each word in the bag that exists in the sentence\n",
        "\n",
        "def bow(sentence, words, show_details=True):\n",
        "    # tokenize the pattern\n",
        "    sentence_words = clean_up_sentence(sentence)\n",
        "    # bag of words - matrix of N words, vocabulary matrix\n",
        "    bag = [0]*len(words)\n",
        "    for s in sentence_words:\n",
        "        for i,w in enumerate(words):\n",
        "            if w == s:\n",
        "                # assign 1 if current word is in the vocabulary position\n",
        "                bag[i] = 1\n",
        "                if show_details:\n",
        "                    print (\"found in bag: %s\" % w)\n",
        "    return(np.array(bag))"
      ],
      "metadata": {
        "id": "1GzYpxLtPPjp"
      },
      "execution_count": 16,
      "outputs": []
    },
    {
      "cell_type": "markdown",
      "metadata": {
        "id": "4vpOX82Ti0Xn"
      },
      "source": [
        "# Step 5: Membuat Fungsi Predict Class"
      ]
    },
    {
      "cell_type": "code",
      "source": [
        "def predict_class(sentence, model):\n",
        "    # filter out predictions below a threshold\n",
        "    p = bow(sentence, words, show_details=False)\n",
        "    res = model.predict(np.array([p]))[0]\n",
        "    ERROR_THRESHOLD = 0.25\n",
        "    results = [[i,r] for i,r in enumerate(res) if r>ERROR_THRESHOLD]\n",
        "    # sort by strength of probability\n",
        "    results.sort(key=lambda x: x[1], reverse=True)\n",
        "    return_list = []\n",
        "    for r in results:\n",
        "        return_list.append({\"intent\": classes[r[0]], \"probability\": str(r[1])})\n",
        "    return return_list"
      ],
      "metadata": {
        "id": "YrEbakSePVj3"
      },
      "execution_count": 17,
      "outputs": []
    },
    {
      "cell_type": "markdown",
      "metadata": {
        "id": "JW5ZVBY4i4J4"
      },
      "source": [
        "# Step 6: Membuat Fungsi untuk mengambil atau memberikan responses"
      ]
    },
    {
      "cell_type": "code",
      "source": [
        "def getResponse(ints, intents_json):\n",
        "    tag = ints[0]['intent']\n",
        "    list_of_intents = intents_json['intents']\n",
        "    for i in list_of_intents:\n",
        "        if(i['tag']== tag):\n",
        "            result = choice(i['responses'])\n",
        "            break\n",
        "        else:\n",
        "            result = \"You must ask the right questions\"\n",
        "    return result"
      ],
      "metadata": {
        "id": "kqUK7YrGPfel"
      },
      "execution_count": 19,
      "outputs": []
    },
    {
      "cell_type": "markdown",
      "metadata": {
        "id": "BMyvWKt2i_Gg"
      },
      "source": [
        "# Step 2: Membuat Fungsi untuk memberikan respons dan menjalankan chatbot"
      ]
    },
    {
      "cell_type": "code",
      "source": [
        "# FUngsi untuk menjalankan aplikasi\n",
        "def response(text):\n",
        "    ints=predict_class(text,model)\n",
        "    response=getResponse(ints,intents)\n",
        "    return response\n",
        "\n",
        "while(1):\n",
        "    x=input()\n",
        "    print(response(x))\n",
        "    # tts = gTTS(response(x), lang='id')\n",
        "    # tts.save('/content/bot.wav')\n",
        "    # time.sleep(0.08)\n",
        "    # ipd.display(ipd.Audio('/content/bot.wav', autoplay=True))\n",
        "    print(\"=\"*60 + \"\\n\")\n",
        "    if x.lower() in ['bye','goodbye','get lost','see you']:  \n",
        "        break"
      ],
      "metadata": {
        "colab": {
          "base_uri": "https://localhost:8080/"
        },
        "id": "TFS2lVdRhvuk",
        "outputId": "9459d7bf-df38-4610-d9f6-de1eda9c422b"
      },
      "execution_count": 22,
      "outputs": [
        {
          "output_type": "stream",
          "name": "stdout",
          "text": [
            "hai\n",
            "1/1 [==============================] - 0s 252ms/step\n",
            "Helo! Ada masalah mental health ya?\n",
            "============================================================\n",
            "\n",
            "pantun\n",
            "1/1 [==============================] - 0s 19ms/step\n",
            "Anak elang mulailah terbang, Ambilkan dedak berilah makan, Janganlah abang merasa bimbang, Segala kehendak aku tunaikan.\n",
            "============================================================\n",
            "\n",
            "mentaL Ilness\n",
            "1/1 [==============================] - 0s 17ms/step\n",
            "Mental illness, disebut juga dengan gangguan mental atau jiwa, adalah kondisi kesehatan yang memengaruhi pemikiran, perasaan, perilaku, suasana hati, atau kombinasi diantaranya. Kondisi ini dapat terjadi sesekali atau berlangsung dalam waktu yang lama (kronis)\n",
            "============================================================\n",
            "\n",
            "mental illnessss\n",
            "1/1 [==============================] - 0s 18ms/step\n",
            "Mental illness, disebut juga dengan gangguan mental atau jiwa, adalah kondisi kesehatan yang memengaruhi pemikiran, perasaan, perilaku, suasana hati, atau kombinasi diantaranya. Kondisi ini dapat terjadi sesekali atau berlangsung dalam waktu yang lama (kronis)\n",
            "============================================================\n",
            "\n",
            "kesehatan mental\n",
            "1/1 [==============================] - 0s 17ms/step\n",
            "kesehatan mental adalah kondisi dimana individu memiliki kesejahteraan yang tampak dari dirinya yang mampu menyadari potensi sendiri. Kita semua memiliki kesehatan mental yang terdiri dari keyakinan, pikiran, perasaan, dan perilaku kita\n",
            "============================================================\n",
            "\n",
            "bye\n",
            "1/1 [==============================] - 0s 20ms/step\n",
            "See u! Senang bisa membantu\n",
            "============================================================\n",
            "\n"
          ]
        }
      ]
    }
  ]
}